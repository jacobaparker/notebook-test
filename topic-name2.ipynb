{
 "cells": [
  {
   "cell_type": "markdown",
   "metadata": {
    "id": "nT9gMRY0QJWn"
   },
   "source": [
    "[![Open In Colab](https://colab.research.google.com/assets/colab-badge.svg)](https://colab.research.google.com/github/jacobaparker/notebook-test/blob/master/topic-name2.ipynb)\n",
    "\n",
    "<p align=\"center\">\n",
    "  <img src=\"https://github.com/jacobaparker/notebook-test/blob/main/images/NGG-logo.png?raw=True\" width=\"300px\">\n",
    "  <h1>Topic Name</h1><br/>\n",
    "  <p><b>Notebook Authors:</b> Jake Parker<br/><br/><b>Data Credits:</b> Jake Parker (XYZ Lab)</p>\n",
    "</p>"
   ]
  },
  {
   "cell_type": "markdown",
   "metadata": {},
   "source": [
    "***\n",
    "\n",
    "# Table of Contents\n",
    "\n",
    "- Section 1: section name\n",
    "    - Analysis/Figure/Coding/Exercise 1.1\n",
    "    - Analysis/Figure/Coding/Exercise 1.2\n",
    "- Section 2: section name\n",
    "    - Analysis/Figure/Coding/Exercise 2.1\n",
    "- Section 3: section name\n",
    "    - Analysis/Figure/Coding/Exercise 3.1"
   ]
  },
  {
   "cell_type": "markdown",
   "metadata": {},
   "source": [
    "***\n",
    "    \n",
    "# Setup\n",
    "\n",
    "## Running this code locally (optional)\n",
    "\n",
    "While you can run the code in this notebook entirely online via Google Colab, you may wish to download it to your computer and run it locally. This is especially useful if you plan to run any of these analyses in your own work.\n",
    "\n",
    "If you have conda installed, run the following command to create a new python environment with the packages \n",
    "\n",
    "'''\n",
    "conda env create --file env-name.txt #creates a python virtual environment\n",
    "'''\n",
    "\n",
    "Otherwise, create \n",
    "\n",
    "'''\n",
    "pip install -r required-packages.txt\n",
    "'''"
   ]
  },
  {
   "cell_type": "code",
   "execution_count": null,
   "metadata": {
    "id": "rRu2e-t0P9U2"
   },
   "outputs": [],
   "source": [
    "# @title Import libraries\n",
    "# @markdown We must import the libraries containing the functions we wish to use before we do anything else\n",
    "import numpy as np\n",
    "import pandas as pd\n",
    "import matplotlib.pyplot as plt"
   ]
  },
  {
   "cell_type": "code",
   "execution_count": null,
   "metadata": {
    "id": "ft5wQ9kUQfCv"
   },
   "outputs": [],
   "source": [
    "# @title Define plotting functions\n",
    "# @markdown Define functions for plotting the results of our analyses\n",
    "def plot_function(data):\n",
    "    pd.plotting.scatter_matrix(data, alpha=0.2)"
   ]
  },
  {
   "cell_type": "code",
   "execution_count": null,
   "metadata": {
    "cellView": "form",
    "id": "ExyeYzMwQhAg"
   },
   "outputs": [],
   "source": [
    "# @title Define helper functions\n",
    "# @markdown Define miscellaneous convenience functions for processing/analyzing the data\n",
    "def helper_function(data):\n",
    "    data = data\n",
    "    return data"
   ]
  },
  {
   "cell_type": "code",
   "execution_count": null,
   "metadata": {
    "id": "y3r1utF5Qls-"
   },
   "outputs": [],
   "source": [
    "# @title Import data\n",
    "# @markdown Import the data from the github repository\n",
    "import requests\n",
    "url = 'https://github.com/jacobaparker/notebook-test/blob/main/data/data.csv?raw=True'\n",
    "df = pd.read_csv(url, error_bad_lines=False)"
   ]
  },
  {
   "cell_type": "markdown",
   "metadata": {
    "id": "sF5YeijeQn1O"
   },
   "source": [
    "***\n",
    "# Section 1: section name\n",
    "\n",
    "Introductory blurb.\n",
    "\n",
    "## Content 1.1\n",
    "\n",
    "Plot the data imported from the github repository."
   ]
  },
  {
   "cell_type": "code",
   "execution_count": null,
   "metadata": {
    "id": "LxdkBTDEQq02"
   },
   "outputs": [],
   "source": [
    "plot_function(df)"
   ]
  },
  {
   "cell_type": "code",
   "execution_count": null,
   "metadata": {
    "id": "MMIr0UmYQt12"
   },
   "outputs": [],
   "source": [
    "print('Hello github?')"
   ]
  }
 ],
 "metadata": {
  "colab": {
   "authorship_tag": "ABX9TyNcf/PNigCSYGvc1eXvm9Pb",
   "name": "topic-name2.ipynb",
   "provenance": []
  },
  "kernelspec": {
   "display_name": "Python 3 (ipykernel)",
   "language": "python",
   "name": "python3"
  },
  "language_info": {
   "codemirror_mode": {
    "name": "ipython",
    "version": 3
   },
   "file_extension": ".py",
   "mimetype": "text/x-python",
   "name": "python",
   "nbconvert_exporter": "python",
   "pygments_lexer": "ipython3",
   "version": "3.9.7"
  }
 },
 "nbformat": 4,
 "nbformat_minor": 1
}
