{
 "cells": [
  {
   "cell_type": "markdown",
   "id": "7e8887fc",
   "metadata": {},
   "source": [
    "# Topic Name\n",
    "\n",
    "__Author:__ Jake Parker\n",
    "\n",
    "Insert NGG logo here\n",
    "\n",
    "***\n",
    "\n",
    "# Table of Contents\n",
    "\n",
    "- Section 1: section name\n",
    "    - Analysis/Figure/Coding/Exercise 1.1\n",
    "    - Analysis/Figure/Coding/Exercise 1.2\n",
    "- Section 2: section name\n",
    "    - Analysis/Figure/Coding/Exercise 2.1\n",
    "- Section 3: section name\n",
    "    - Analysis/Figure/Coding/Exercise 3.1\n",
    "    \n",
    "***\n",
    "    \n",
    "# Setup\n",
    "\n",
    "## Running this code locally (optional)\n",
    "\n",
    "While you can run the code in this notebook entirely online via Google Colab, you may wish to download it to your computer and run it locally. This is especially useful if you plan to run any of these analyses in your own work.\n",
    "\n",
    "If you have conda installed, run the following command to create a new python environment with the packages \n",
    "\n",
    "'''\n",
    "conda env create --file env-name.txt #creates a python virtual environment\n",
    "'''\n",
    "\n",
    "Otherwise, create \n",
    "\n",
    "'''\n",
    "pip install -r required-packages.txt\n",
    "'''\n"
   ]
  },
  {
   "cell_type": "code",
   "execution_count": null,
   "id": "50cf5b42",
   "metadata": {},
   "outputs": [],
   "source": [
    "# @title Import libraries\n",
    "# @markdown We must import the libraries containing the functions we wish to use before we do anything else\n",
    "import numpy as np\n",
    "import pandas as pd\n",
    "import matplotlib.pyplot as plt"
   ]
  },
  {
   "cell_type": "code",
   "execution_count": null,
   "id": "8edae746",
   "metadata": {},
   "outputs": [],
   "source": [
    "# @title Define plotting functions\n",
    "# @markdown Define functions for plotting the results of our analyses\n",
    "def plot_function(data):\n",
    "    plt.plot(data)"
   ]
  },
  {
   "cell_type": "code",
   "execution_count": null,
   "id": "f9c1a1f8",
   "metadata": {},
   "outputs": [],
   "source": [
    "# @title Define helper functions\n",
    "# @markdown Define miscellaneous convenience functions for processing/analyzing the data\n",
    "def helper_function(data):\n",
    "    data = data\n",
    "    return data"
   ]
  },
  {
   "cell_type": "code",
   "execution_count": null,
   "id": "c3276e61",
   "metadata": {},
   "outputs": [],
   "source": [
    "# @title Import data\n",
    "# @markdown Import the data from the github repository\n",
    "import requests\n",
    "url = 'https://github.com/jacobaparker/notebook-test/data/.../data.csv?raw=True'\n",
    "df = pd.read_csv(url, error_bad_lines=False)"
   ]
  },
  {
   "cell_type": "markdown",
   "id": "1ba5bfae",
   "metadata": {},
   "source": [
    "***\n",
    "# Section 1: section name\n",
    "\n",
    "Introductory blurb.\n",
    "\n",
    "## Content 1.1\n",
    "\n",
    "Plot the data imported from the github repository."
   ]
  },
  {
   "cell_type": "code",
   "execution_count": null,
   "id": "47abcab3",
   "metadata": {},
   "outputs": [],
   "source": [
    "df = pd.DataFrame(np.random.randn(1000, 4), columns=['A','B','C','D'])"
   ]
  }
 ],
 "metadata": {
  "kernelspec": {
   "display_name": "Python 3 (ipykernel)",
   "language": "python",
   "name": "python3"
  },
  "language_info": {
   "codemirror_mode": {
    "name": "ipython",
    "version": 3
   },
   "file_extension": ".py",
   "mimetype": "text/x-python",
   "name": "python",
   "nbconvert_exporter": "python",
   "pygments_lexer": "ipython3",
   "version": "3.9.7"
  }
 },
 "nbformat": 4,
 "nbformat_minor": 5
}
